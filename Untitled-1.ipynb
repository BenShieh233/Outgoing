{
 "cells": [
  {
   "cell_type": "code",
   "execution_count": 8,
   "metadata": {},
   "outputs": [
    {
     "name": "stdout",
     "output_type": "stream",
     "text": [
      "     SKU Wayfair SKU  total_qty  PN-3  PN-5\n",
      "0  PN-04       PN-04          4     2     1\n"
     ]
    }
   ],
   "source": [
    "import pandas as pd\n",
    "\n",
    "# Sample data\n",
    "data = {\n",
    "    'SKU': ['PN-04', 'PN-04', 'PN-04'],\n",
    "    'Wayfair SKU': ['PN-04', 'PN-04', 'PN-04'],\n",
    "    'Qty': [2, 1, 1],\n",
    "    'Problem Number': [3, 5, 3]\n",
    "}\n",
    "\n",
    "# Create DataFrame\n",
    "df = pd.DataFrame(data)\n",
    "\n",
    "# Group by SKU and Wayfair SKU, then aggregate\n",
    "summary = df.groupby(['SKU', 'Wayfair SKU']).agg(\n",
    "    total_qty=('Qty', 'sum'),\n",
    "    problem_counts=('Problem Number', lambda x: x.value_counts().to_dict())\n",
    ").reset_index()\n",
    "\n",
    "# Flatten the problem_counts dictionary into separate columns\n",
    "problem_df = summary['problem_counts'].apply(pd.Series).fillna(0).astype(int)\n",
    "problem_df.columns = [f'PN-{col}' for col in problem_df.columns]\n",
    "\n",
    "# Combine the total_qty and problem_df into the final summary\n",
    "final_summary = pd.concat([summary[['SKU', 'Wayfair SKU', 'total_qty']], problem_df], axis=1)\n",
    "\n",
    "# Display summary\n",
    "print(final_summary)"
   ]
  },
  {
   "cell_type": "code",
   "execution_count": 9,
   "metadata": {},
   "outputs": [
    {
     "data": {
      "text/html": [
       "<div>\n",
       "<style scoped>\n",
       "    .dataframe tbody tr th:only-of-type {\n",
       "        vertical-align: middle;\n",
       "    }\n",
       "\n",
       "    .dataframe tbody tr th {\n",
       "        vertical-align: top;\n",
       "    }\n",
       "\n",
       "    .dataframe thead th {\n",
       "        text-align: right;\n",
       "    }\n",
       "</style>\n",
       "<table border=\"1\" class=\"dataframe\">\n",
       "  <thead>\n",
       "    <tr style=\"text-align: right;\">\n",
       "      <th></th>\n",
       "      <th>SKU</th>\n",
       "      <th>Wayfair SKU</th>\n",
       "      <th>total_qty</th>\n",
       "      <th>problem_counts</th>\n",
       "    </tr>\n",
       "  </thead>\n",
       "  <tbody>\n",
       "    <tr>\n",
       "      <th>0</th>\n",
       "      <td>PN-04</td>\n",
       "      <td>PN-04</td>\n",
       "      <td>4</td>\n",
       "      <td>{3: 2, 5: 1}</td>\n",
       "    </tr>\n",
       "  </tbody>\n",
       "</table>\n",
       "</div>"
      ],
      "text/plain": [
       "     SKU Wayfair SKU  total_qty problem_counts\n",
       "0  PN-04       PN-04          4   {3: 2, 5: 1}"
      ]
     },
     "execution_count": 9,
     "metadata": {},
     "output_type": "execute_result"
    }
   ],
   "source": [
    "df.groupby(['SKU', 'Wayfair SKU']).agg(\n",
    "    total_qty=('Qty', 'sum'),\n",
    "    problem_counts=('Problem Number', lambda x: x.value_counts().to_dict())\n",
    ").reset_index()"
   ]
  },
  {
   "cell_type": "code",
   "execution_count": 6,
   "metadata": {},
   "outputs": [
    {
     "data": {
      "text/plain": [
       "['SKU_', 'Wayfair SKU_', 'PN-3', 'PN-5']"
      ]
     },
     "execution_count": 6,
     "metadata": {},
     "output_type": "execute_result"
    }
   ],
   "source": [
    "['_'.join(str(i) for i in col).strip() if isinstance(col, tuple) else col for col in summary.columns]"
   ]
  },
  {
   "cell_type": "code",
   "execution_count": 10,
   "metadata": {},
   "outputs": [],
   "source": [
    "# Sample data\n",
    "data = {\n",
    "    'SKU': ['PN-04', 'PN-04', 'PN-04'],\n",
    "    'Wayfair SKU': ['PN-04', 'PN-04', 'PN-04'],\n",
    "    'Qty': [2, 1, 1],\n",
    "    'Problem Number': ['3', '5', '3-4']\n",
    "}\n",
    "\n",
    "# Create DataFrame\n",
    "df = pd.DataFrame(data)\n",
    "\n",
    "# Expand Problem Number to multiple rows if it contains multiple values\n",
    "df = df.assign(Problem_Number=df['Problem Number'].str.split('-')).explode('Problem_Number')\n",
    "df['Problem_Number'] = df['Problem_Number'].astype(int)"
   ]
  },
  {
   "cell_type": "code",
   "execution_count": 11,
   "metadata": {},
   "outputs": [
    {
     "data": {
      "text/html": [
       "<div>\n",
       "<style scoped>\n",
       "    .dataframe tbody tr th:only-of-type {\n",
       "        vertical-align: middle;\n",
       "    }\n",
       "\n",
       "    .dataframe tbody tr th {\n",
       "        vertical-align: top;\n",
       "    }\n",
       "\n",
       "    .dataframe thead th {\n",
       "        text-align: right;\n",
       "    }\n",
       "</style>\n",
       "<table border=\"1\" class=\"dataframe\">\n",
       "  <thead>\n",
       "    <tr style=\"text-align: right;\">\n",
       "      <th></th>\n",
       "      <th>SKU</th>\n",
       "      <th>Wayfair SKU</th>\n",
       "      <th>Qty</th>\n",
       "      <th>Problem Number</th>\n",
       "      <th>Problem_Number</th>\n",
       "    </tr>\n",
       "  </thead>\n",
       "  <tbody>\n",
       "    <tr>\n",
       "      <th>0</th>\n",
       "      <td>PN-04</td>\n",
       "      <td>PN-04</td>\n",
       "      <td>2</td>\n",
       "      <td>3</td>\n",
       "      <td>3</td>\n",
       "    </tr>\n",
       "    <tr>\n",
       "      <th>1</th>\n",
       "      <td>PN-04</td>\n",
       "      <td>PN-04</td>\n",
       "      <td>1</td>\n",
       "      <td>5</td>\n",
       "      <td>5</td>\n",
       "    </tr>\n",
       "    <tr>\n",
       "      <th>2</th>\n",
       "      <td>PN-04</td>\n",
       "      <td>PN-04</td>\n",
       "      <td>1</td>\n",
       "      <td>3-4</td>\n",
       "      <td>3</td>\n",
       "    </tr>\n",
       "    <tr>\n",
       "      <th>2</th>\n",
       "      <td>PN-04</td>\n",
       "      <td>PN-04</td>\n",
       "      <td>1</td>\n",
       "      <td>3-4</td>\n",
       "      <td>4</td>\n",
       "    </tr>\n",
       "  </tbody>\n",
       "</table>\n",
       "</div>"
      ],
      "text/plain": [
       "     SKU Wayfair SKU  Qty Problem Number  Problem_Number\n",
       "0  PN-04       PN-04    2              3               3\n",
       "1  PN-04       PN-04    1              5               5\n",
       "2  PN-04       PN-04    1            3-4               3\n",
       "2  PN-04       PN-04    1            3-4               4"
      ]
     },
     "execution_count": 11,
     "metadata": {},
     "output_type": "execute_result"
    }
   ],
   "source": [
    "df"
   ]
  },
  {
   "cell_type": "code",
   "execution_count": 12,
   "metadata": {},
   "outputs": [],
   "source": [
    "summary = df.groupby(['SKU', 'Wayfair SKU']).agg(\n",
    "    total_qty=('Qty', 'sum'),\n",
    "    problem_counts=('Problem_Number', lambda x: x.value_counts().to_dict())\n",
    ").reset_index()"
   ]
  },
  {
   "cell_type": "code",
   "execution_count": 13,
   "metadata": {},
   "outputs": [
    {
     "data": {
      "text/html": [
       "<div>\n",
       "<style scoped>\n",
       "    .dataframe tbody tr th:only-of-type {\n",
       "        vertical-align: middle;\n",
       "    }\n",
       "\n",
       "    .dataframe tbody tr th {\n",
       "        vertical-align: top;\n",
       "    }\n",
       "\n",
       "    .dataframe thead th {\n",
       "        text-align: right;\n",
       "    }\n",
       "</style>\n",
       "<table border=\"1\" class=\"dataframe\">\n",
       "  <thead>\n",
       "    <tr style=\"text-align: right;\">\n",
       "      <th></th>\n",
       "      <th>SKU</th>\n",
       "      <th>Wayfair SKU</th>\n",
       "      <th>total_qty</th>\n",
       "      <th>problem_counts</th>\n",
       "    </tr>\n",
       "  </thead>\n",
       "  <tbody>\n",
       "    <tr>\n",
       "      <th>0</th>\n",
       "      <td>PN-04</td>\n",
       "      <td>PN-04</td>\n",
       "      <td>5</td>\n",
       "      <td>{3: 2, 5: 1, 4: 1}</td>\n",
       "    </tr>\n",
       "  </tbody>\n",
       "</table>\n",
       "</div>"
      ],
      "text/plain": [
       "     SKU Wayfair SKU  total_qty      problem_counts\n",
       "0  PN-04       PN-04          5  {3: 2, 5: 1, 4: 1}"
      ]
     },
     "execution_count": 13,
     "metadata": {},
     "output_type": "execute_result"
    }
   ],
   "source": [
    "summary"
   ]
  },
  {
   "cell_type": "code",
   "execution_count": 14,
   "metadata": {},
   "outputs": [
    {
     "name": "stdout",
     "output_type": "stream",
     "text": [
      "     SKU Wayfair SKU  total_qty  PN-3  PN-5  PN-4\n",
      "0  PN-04       PN-04          5     2     1     1\n"
     ]
    }
   ],
   "source": [
    "# Flatten the problem_counts dictionary into separate columns\n",
    "problem_df = summary['problem_counts'].apply(pd.Series).fillna(0).astype(int)\n",
    "problem_df.columns = [f'PN-{col}' for col in problem_df.columns]\n",
    "\n",
    "# Combine the total_qty and problem_df into the final summary\n",
    "final_summary = pd.concat([summary[['SKU', 'Wayfair SKU', 'total_qty']], problem_df], axis=1)\n",
    "\n",
    "# Display summary\n",
    "print(final_summary)"
   ]
  },
  {
   "cell_type": "code",
   "execution_count": 15,
   "metadata": {},
   "outputs": [],
   "source": [
    "file_path = 'July_24 CARRO USA OUTGOING.xlsx'\n",
    "\n",
    "xls = pd.ExcelFile(file_path)\n",
    "\n",
    "sheet_names = xls.sheet_names\n",
    "\n",
    "def get_table(file_path, sheet_names):\n",
    "    df = pd.DataFrame()\n",
    "    for sheet_name in sheet_names[2:]:\n",
    "        df1 = pd.read_excel(file_path, sheet_name=sheet_name)\n",
    "        print(f\"Sheet Name: {sheet_name}\")\n",
    "        df = pd.concat([df, df1], axis = 0)\n",
    "    df = df[['SKU', 'Wayfair SKU', 'Qty', 'PROBLEM NUMBER']]\n",
    "    df['Problem Number'] = df['PROBLEM NUMBER'].apply(lambda x: int(x) if isinstance(x, float) and not np.isnan(x) else x)\n",
    "    df = df[['SKU', 'Wayfair SKU', 'Qty', 'Problem Number']]\n",
    "    df = df.assign(Problem_Number=df['Problem Number'].str.split('-')).explode('Problem_Number')\n",
    "    return df"
   ]
  },
  {
   "cell_type": "code",
   "execution_count": 23,
   "metadata": {},
   "outputs": [],
   "source": [
    "data = {\n",
    "    'SKU': ['PN-04', 'PN-04', 'PN-04'],\n",
    "    'Wayfair SKU': ['PN-04', 'PN-04', 'PN-04'],\n",
    "    'Qty': [2, 1, 1],\n",
    "    'Problem Number': ['3', '5', '3-4']\n",
    "}\n",
    "\n",
    "# Create DataFrame\n",
    "df = pd.DataFrame(data)\n",
    "\n",
    "# Expand Problem Number to multiple rows if it contains multiple values\n",
    "df = df.assign(Problem_Number=df['Problem Number'].str.split('-')).explode('Problem_Number')\n",
    "df['Problem_Number'] = df['Problem_Number'].astype(int)"
   ]
  },
  {
   "cell_type": "code",
   "execution_count": 21,
   "metadata": {},
   "outputs": [
    {
     "data": {
      "text/html": [
       "<div>\n",
       "<style scoped>\n",
       "    .dataframe tbody tr th:only-of-type {\n",
       "        vertical-align: middle;\n",
       "    }\n",
       "\n",
       "    .dataframe tbody tr th {\n",
       "        vertical-align: top;\n",
       "    }\n",
       "\n",
       "    .dataframe thead th {\n",
       "        text-align: right;\n",
       "    }\n",
       "</style>\n",
       "<table border=\"1\" class=\"dataframe\">\n",
       "  <thead>\n",
       "    <tr style=\"text-align: right;\">\n",
       "      <th></th>\n",
       "      <th>SKU</th>\n",
       "      <th>Wayfair SKU</th>\n",
       "      <th>Qty</th>\n",
       "      <th>Problem Number</th>\n",
       "    </tr>\n",
       "  </thead>\n",
       "  <tbody>\n",
       "    <tr>\n",
       "      <th>0</th>\n",
       "      <td>PN-04</td>\n",
       "      <td>PN-04</td>\n",
       "      <td>2</td>\n",
       "      <td>3</td>\n",
       "    </tr>\n",
       "    <tr>\n",
       "      <th>1</th>\n",
       "      <td>PN-04</td>\n",
       "      <td>PN-04</td>\n",
       "      <td>1</td>\n",
       "      <td>5</td>\n",
       "    </tr>\n",
       "    <tr>\n",
       "      <th>2</th>\n",
       "      <td>PN-04</td>\n",
       "      <td>PN-04</td>\n",
       "      <td>1</td>\n",
       "      <td>3-4</td>\n",
       "    </tr>\n",
       "  </tbody>\n",
       "</table>\n",
       "</div>"
      ],
      "text/plain": [
       "     SKU Wayfair SKU  Qty Problem Number\n",
       "0  PN-04       PN-04    2              3\n",
       "1  PN-04       PN-04    1              5\n",
       "2  PN-04       PN-04    1            3-4"
      ]
     },
     "execution_count": 21,
     "metadata": {},
     "output_type": "execute_result"
    }
   ],
   "source": [
    "pd.DataFrame(data)"
   ]
  },
  {
   "cell_type": "code",
   "execution_count": 20,
   "metadata": {},
   "outputs": [
    {
     "data": {
      "text/html": [
       "<div>\n",
       "<style scoped>\n",
       "    .dataframe tbody tr th:only-of-type {\n",
       "        vertical-align: middle;\n",
       "    }\n",
       "\n",
       "    .dataframe tbody tr th {\n",
       "        vertical-align: top;\n",
       "    }\n",
       "\n",
       "    .dataframe thead th {\n",
       "        text-align: right;\n",
       "    }\n",
       "</style>\n",
       "<table border=\"1\" class=\"dataframe\">\n",
       "  <thead>\n",
       "    <tr style=\"text-align: right;\">\n",
       "      <th></th>\n",
       "      <th>SKU</th>\n",
       "      <th>Wayfair SKU</th>\n",
       "      <th>Qty</th>\n",
       "      <th>Problem Number</th>\n",
       "      <th>Problem_Number</th>\n",
       "    </tr>\n",
       "  </thead>\n",
       "  <tbody>\n",
       "    <tr>\n",
       "      <th>0</th>\n",
       "      <td>PN-04</td>\n",
       "      <td>PN-04</td>\n",
       "      <td>2</td>\n",
       "      <td>3</td>\n",
       "      <td>3</td>\n",
       "    </tr>\n",
       "    <tr>\n",
       "      <th>1</th>\n",
       "      <td>PN-04</td>\n",
       "      <td>PN-04</td>\n",
       "      <td>1</td>\n",
       "      <td>5</td>\n",
       "      <td>5</td>\n",
       "    </tr>\n",
       "    <tr>\n",
       "      <th>2</th>\n",
       "      <td>PN-04</td>\n",
       "      <td>PN-04</td>\n",
       "      <td>1</td>\n",
       "      <td>3-4</td>\n",
       "      <td>3</td>\n",
       "    </tr>\n",
       "    <tr>\n",
       "      <th>2</th>\n",
       "      <td>PN-04</td>\n",
       "      <td>PN-04</td>\n",
       "      <td>1</td>\n",
       "      <td>3-4</td>\n",
       "      <td>4</td>\n",
       "    </tr>\n",
       "  </tbody>\n",
       "</table>\n",
       "</div>"
      ],
      "text/plain": [
       "     SKU Wayfair SKU  Qty Problem Number  Problem_Number\n",
       "0  PN-04       PN-04    2              3               3\n",
       "1  PN-04       PN-04    1              5               5\n",
       "2  PN-04       PN-04    1            3-4               3\n",
       "2  PN-04       PN-04    1            3-4               4"
      ]
     },
     "execution_count": 20,
     "metadata": {},
     "output_type": "execute_result"
    }
   ],
   "source": [
    "df"
   ]
  },
  {
   "cell_type": "code",
   "execution_count": 25,
   "metadata": {},
   "outputs": [],
   "source": [
    "data = {\n",
    "    'SKU': ['PN-04', 'PN-04', 'PN-04'],\n",
    "    'Wayfair SKU': ['PN-04', 'PN-04', 'PN-04'],\n",
    "    'Qty': [2, 1, 1],\n",
    "    'Problem Number': ['3', '5', '3-4']\n",
    "}\n",
    "\n",
    "# Create DataFrame\n",
    "df = pd.DataFrame(data)\n",
    "\n",
    "# Create a copy of original dataframe for processing\n",
    "df_processed = df.copy()\n",
    "\n",
    "# Split and expand 'Problem Number' without altering the original quantity\n",
    "df_processed = df_processed.assign(Problem_Number=df_processed['Problem Number'].str.split('-')).explode('Problem_Number')\n",
    "\n",
    "# # Convert split values to integers where applicable\n",
    "# df_processed['Problem_Number'] = pd.to_numeric(df_processed['Problem_Number'], errors='coerce').fillna(0).astype(int)\n",
    "\n",
    "# # Aggregate back to original quantity\n",
    "# df_processed = df_processed.groupby(['SKU', 'Wayfair SKU', 'Problem_Number']).agg(\n",
    "#     Qty=('Qty', 'sum')\n",
    "# ).reset_index()\n",
    "\n",
    "# # Display the processed DataFrame\n",
    "# print(df_processed)"
   ]
  },
  {
   "cell_type": "code",
   "execution_count": 27,
   "metadata": {},
   "outputs": [
    {
     "data": {
      "text/html": [
       "<div>\n",
       "<style scoped>\n",
       "    .dataframe tbody tr th:only-of-type {\n",
       "        vertical-align: middle;\n",
       "    }\n",
       "\n",
       "    .dataframe tbody tr th {\n",
       "        vertical-align: top;\n",
       "    }\n",
       "\n",
       "    .dataframe thead th {\n",
       "        text-align: right;\n",
       "    }\n",
       "</style>\n",
       "<table border=\"1\" class=\"dataframe\">\n",
       "  <thead>\n",
       "    <tr style=\"text-align: right;\">\n",
       "      <th></th>\n",
       "      <th>SKU</th>\n",
       "      <th>Wayfair SKU</th>\n",
       "      <th>Qty</th>\n",
       "      <th>Problem Number</th>\n",
       "    </tr>\n",
       "  </thead>\n",
       "  <tbody>\n",
       "    <tr>\n",
       "      <th>0</th>\n",
       "      <td>PN-04</td>\n",
       "      <td>PN-04</td>\n",
       "      <td>2</td>\n",
       "      <td>3</td>\n",
       "    </tr>\n",
       "    <tr>\n",
       "      <th>1</th>\n",
       "      <td>PN-04</td>\n",
       "      <td>PN-04</td>\n",
       "      <td>1</td>\n",
       "      <td>5</td>\n",
       "    </tr>\n",
       "    <tr>\n",
       "      <th>2</th>\n",
       "      <td>PN-04</td>\n",
       "      <td>PN-04</td>\n",
       "      <td>1</td>\n",
       "      <td>3-4</td>\n",
       "    </tr>\n",
       "  </tbody>\n",
       "</table>\n",
       "</div>"
      ],
      "text/plain": [
       "     SKU Wayfair SKU  Qty Problem Number\n",
       "0  PN-04       PN-04    2              3\n",
       "1  PN-04       PN-04    1              5\n",
       "2  PN-04       PN-04    1            3-4"
      ]
     },
     "execution_count": 27,
     "metadata": {},
     "output_type": "execute_result"
    }
   ],
   "source": [
    "df"
   ]
  },
  {
   "cell_type": "code",
   "execution_count": 26,
   "metadata": {},
   "outputs": [
    {
     "data": {
      "text/html": [
       "<div>\n",
       "<style scoped>\n",
       "    .dataframe tbody tr th:only-of-type {\n",
       "        vertical-align: middle;\n",
       "    }\n",
       "\n",
       "    .dataframe tbody tr th {\n",
       "        vertical-align: top;\n",
       "    }\n",
       "\n",
       "    .dataframe thead th {\n",
       "        text-align: right;\n",
       "    }\n",
       "</style>\n",
       "<table border=\"1\" class=\"dataframe\">\n",
       "  <thead>\n",
       "    <tr style=\"text-align: right;\">\n",
       "      <th></th>\n",
       "      <th>SKU</th>\n",
       "      <th>Wayfair SKU</th>\n",
       "      <th>Qty</th>\n",
       "      <th>Problem Number</th>\n",
       "      <th>Problem_Number</th>\n",
       "    </tr>\n",
       "  </thead>\n",
       "  <tbody>\n",
       "    <tr>\n",
       "      <th>0</th>\n",
       "      <td>PN-04</td>\n",
       "      <td>PN-04</td>\n",
       "      <td>2</td>\n",
       "      <td>3</td>\n",
       "      <td>3</td>\n",
       "    </tr>\n",
       "    <tr>\n",
       "      <th>1</th>\n",
       "      <td>PN-04</td>\n",
       "      <td>PN-04</td>\n",
       "      <td>1</td>\n",
       "      <td>5</td>\n",
       "      <td>5</td>\n",
       "    </tr>\n",
       "    <tr>\n",
       "      <th>2</th>\n",
       "      <td>PN-04</td>\n",
       "      <td>PN-04</td>\n",
       "      <td>1</td>\n",
       "      <td>3-4</td>\n",
       "      <td>3</td>\n",
       "    </tr>\n",
       "    <tr>\n",
       "      <th>2</th>\n",
       "      <td>PN-04</td>\n",
       "      <td>PN-04</td>\n",
       "      <td>1</td>\n",
       "      <td>3-4</td>\n",
       "      <td>4</td>\n",
       "    </tr>\n",
       "  </tbody>\n",
       "</table>\n",
       "</div>"
      ],
      "text/plain": [
       "     SKU Wayfair SKU  Qty Problem Number Problem_Number\n",
       "0  PN-04       PN-04    2              3              3\n",
       "1  PN-04       PN-04    1              5              5\n",
       "2  PN-04       PN-04    1            3-4              3\n",
       "2  PN-04       PN-04    1            3-4              4"
      ]
     },
     "execution_count": 26,
     "metadata": {},
     "output_type": "execute_result"
    }
   ],
   "source": [
    "df_processed"
   ]
  }
 ],
 "metadata": {
  "kernelspec": {
   "display_name": "Python 3",
   "language": "python",
   "name": "python3"
  },
  "language_info": {
   "codemirror_mode": {
    "name": "ipython",
    "version": 3
   },
   "file_extension": ".py",
   "mimetype": "text/x-python",
   "name": "python",
   "nbconvert_exporter": "python",
   "pygments_lexer": "ipython3",
   "version": "3.12.4"
  }
 },
 "nbformat": 4,
 "nbformat_minor": 2
}
